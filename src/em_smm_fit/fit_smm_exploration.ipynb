{
 "cells": [
  {
   "cell_type": "code",
   "execution_count": 1,
   "metadata": {},
   "outputs": [],
   "source": [
    "import allel\n",
    "import pandas as pd \n",
    "import numpy as np\n",
    "from numba import jit\n",
    "from typing import Tuple"
   ]
  },
  {
   "cell_type": "code",
   "execution_count": 2,
   "metadata": {},
   "outputs": [],
   "source": [
    "rng = np.random.default_rng(21)"
   ]
  },
  {
   "cell_type": "code",
   "execution_count": 3,
   "metadata": {},
   "outputs": [
    {
     "name": "stdout",
     "output_type": "stream",
     "text": [
      "/home/apoirel/ucsc-cgl/synth-genes\n"
     ]
    }
   ],
   "source": [
    "cd ~/ucsc-cgl/synth-genes"
   ]
  },
  {
   "cell_type": "code",
   "execution_count": 4,
   "metadata": {},
   "outputs": [],
   "source": [
    "variants_vcf = 'data/raw/BreastCancer.shuffle.vcf'"
   ]
  },
  {
   "cell_type": "code",
   "execution_count": 5,
   "metadata": {},
   "outputs": [],
   "source": [
    "K = 6"
   ]
  },
  {
   "cell_type": "markdown",
   "metadata": {},
   "source": [
    "## Ordinal encoding of haplotypes"
   ]
  },
  {
   "cell_type": "code",
   "execution_count": 6,
   "metadata": {},
   "outputs": [],
   "source": [
    "@jit(nopython=True)\n",
    "def _encode_haplotypes(\n",
    " variants_pos: np.ndarray, haplos: np.ndarray, n_samples: int, n_loci: int,\n",
    ") -> np.ndarray:\n",
    "    haplos_encoded = np.full((n_samples, n_loci), 0)\n",
    "    haplos_idx = 0 \n",
    "    for k, pos in enumerate(np.unique(variants_pos)):\n",
    "        n_variants = np.sum(variants_pos == pos)\n",
    "        for idx in range(1, n_variants+1):\n",
    "            res = np.where(\n",
    "                haplos[:, haplos_idx] == 1, idx, haplos_encoded[:,k]\n",
    "            )\n",
    "            haplos_encoded[:,k] = res\n",
    "            haplos_idx += 1\n",
    "    return haplos_encoded"
   ]
  },
  {
   "cell_type": "markdown",
   "metadata": {},
   "source": [
    "### Test data"
   ]
  },
  {
   "cell_type": "code",
   "execution_count": 7,
   "metadata": {},
   "outputs": [],
   "source": [
    "test_variants = pd.DataFrame({\n",
    "    'POS': np.array([1, 2, 2, 3, 3, 3]),\n",
    "    'REF': np.array(['A', 'GA', 'GA', 'T', 'T', 'T']),\n",
    "    'ALT_1': np.array(['G', 'G', 'C', 'TA', 'C', 'G'])\n",
    "})"
   ]
  },
  {
   "cell_type": "code",
   "execution_count": 8,
   "metadata": {},
   "outputs": [],
   "source": [
    "test_haplos = np.array([\n",
    "    [1, 0, 0, 0], [0, 1, 0, 1], [0, 0, 1, 0], \n",
    "    [0, 1, 0, 0], [0, 0, 0, 1], [0, 0, 1, 0]\n",
    "]).T"
   ]
  },
  {
   "cell_type": "code",
   "execution_count": 9,
   "metadata": {},
   "outputs": [
    {
     "data": {
      "text/plain": [
       "array([[1, 0, 0, 0, 0, 0],\n",
       "       [0, 1, 0, 1, 0, 0],\n",
       "       [0, 0, 1, 0, 0, 1],\n",
       "       [0, 1, 0, 0, 1, 0]])"
      ]
     },
     "execution_count": 9,
     "metadata": {},
     "output_type": "execute_result"
    }
   ],
   "source": [
    "test_haplos"
   ]
  },
  {
   "cell_type": "code",
   "execution_count": 10,
   "metadata": {},
   "outputs": [],
   "source": [
    "expected_encoding = np.array([\n",
    "    [1, 0, 0],\n",
    "    [0, 1, 1],\n",
    "    [0, 2, 3],\n",
    "    [0, 1, 2],\n",
    "])"
   ]
  },
  {
   "cell_type": "code",
   "execution_count": 11,
   "metadata": {},
   "outputs": [
    {
     "data": {
      "text/plain": [
       "array([[1, 0, 0],\n",
       "       [0, 1, 1],\n",
       "       [0, 2, 3],\n",
       "       [0, 1, 2]])"
      ]
     },
     "execution_count": 11,
     "metadata": {},
     "output_type": "execute_result"
    }
   ],
   "source": [
    "_encode_haplotypes(test_variants['POS'].values, test_haplos, 4, 3)"
   ]
  },
  {
   "cell_type": "markdown",
   "metadata": {},
   "source": [
    "### Real data\n",
    "\n",
    "pre-processing"
   ]
  },
  {
   "cell_type": "code",
   "execution_count": 12,
   "metadata": {},
   "outputs": [],
   "source": [
    "variants = (allel\n",
    "\t.vcf_to_dataframe(variants_vcf, fields=['POS', 'REF', 'ALT'])\n",
    "\t.drop(['ALT_2', 'ALT_3'], axis=1) # ALT_2, ALT_3 are always empty\n",
    ")\n",
    "genotypes = allel.read_vcf(variants_vcf, fields=['calldata/GT'])\n",
    "genotypes = genotypes['calldata/GT']\t\n",
    "# scikit-allel reads missing values as -1\n",
    "genotypes = np.where(genotypes == -1, 0, genotypes)\n",
    "haplo_1 = genotypes[:,:,0]\n",
    "haplo_2 = genotypes[:,:,1]\n",
    "haplos = np.hstack((haplo_1, haplo_2)).T"
   ]
  },
  {
   "cell_type": "code",
   "execution_count": 13,
   "metadata": {},
   "outputs": [],
   "source": [
    "n_variants_pos = (variants\n",
    "    .groupby('POS')\n",
    "    .count()['REF']\n",
    "    .values) + 1"
   ]
  },
  {
   "cell_type": "code",
   "execution_count": 14,
   "metadata": {},
   "outputs": [],
   "source": [
    "max_n_variants = np.sort(n_variants_pos)[-1]\n",
    "n_loci = len(variants['POS'].unique())\n",
    "n_samples = haplos.shape[0] "
   ]
  },
  {
   "cell_type": "code",
   "execution_count": 15,
   "metadata": {},
   "outputs": [],
   "source": [
    "haplos = _encode_haplotypes(variants['POS'].values, haplos, n_samples, n_loci)"
   ]
  },
  {
   "cell_type": "markdown",
   "metadata": {},
   "source": [
    "## EM implementation"
   ]
  },
  {
   "cell_type": "code",
   "execution_count": 19,
   "metadata": {},
   "outputs": [],
   "source": [
    "@jit(nopython=True, fastmath=True)\n",
    "def _em_loop(\n",
    "\tn_iterations: int,\n",
    "\tK: int,\n",
    "\tn_samples: int,\n",
    "\tn_loci: int,\n",
    "\tn_variants_pos: np.ndarray,\n",
    "\tgroup_e: np.ndarray,\n",
    "\tgroup_probs: np.ndarray, \n",
    "\tvariant_probs: np.ndarray, \n",
    "\thaplotypes: np.ndarray,\n",
    "\tlogsum_approx: bool,\n",
    ") -> Tuple[np.ndarray, np.ndarray, np.ndarray]:\t\n",
    "\n",
    "\tflattened_offset = np.arange(0, n_loci*2, 2)\n",
    " \n",
    "\tfor i in range(n_iterations):\n",
    "\t\tprint('Starting iteration ', i, ' /', n_iterations, '\\n')\n",
    "\t\tfor r in range(n_samples):\n",
    "\t\t\t# NOTE might cause problems for variant probs that are 0?\n",
    "\t\t\tlog_probs_alpha = np.array([\n",
    "\t\t\t\tnp.sum(log_variant_probs[alpha].flatten()[flattened_offset + haplotypes[r]]) \n",
    "\t\t\t\t# workaround for not being able to use more than one advanced index in numba\n",
    "\t\t\t\t# normally would use variant_probs[alpha, np.arange(n_loci), haplos[r]]\n",
    "\t\t\t\tfor alpha in range(K)\n",
    "\t\t\t]) \n",
    "\t\t\tdenominator = 0\n",
    "\t\t\tif logsum_approx: # use approximation for log of a sum\n",
    "\t\t\t\tdenominator = logsum_approx(group_probs * log_probs_alpha)\n",
    "\t\t\telse:\n",
    "\t\t\t\tdenominator = np.log(np.sum(group_probs * np.exp(log_probs_alpha)))     \n",
    "\t\t\tnew_group_e = np.log(group_probs) + log_probs_alpha - denominator\n",
    "\t\t\tnew_group_e = np.exp(new_group_e)\n",
    "\t\t\tif logsum_approx: # rescale to sum up to 1 if using an approximationk\n",
    "\t\t\t\tnew_group_e = new_group_e / np.sum(new_group_e)\n",
    "\t\t\tif np.isinf(np.max(new_group_e)):\n",
    "\t\t\t\traise ValueError('Infinite expectation')\n",
    "\t\t\telse:\n",
    "\t\t\t\tgroup_e[r,:] = new_group_e\n",
    "\n",
    "\t\tgroup_probs = np.sum(group_e, axis=0) / n_samples\n",
    "\t\tprint('Group probabilities: ', group_probs)\n",
    "\t\t# variant probabilities update\n",
    "\t\tfor alpha in range(K):\n",
    "\t\t\tnorm_ct = group_probs[alpha] * n_samples\n",
    "\t\t\tfor k in range(n_loci):\n",
    "\t\t\t\tfor i in range(n_variants_pos[k]): # ignore placeholders in array\n",
    "\t\t\t\t\tvariant_samples = np.where(haplotypes[:,k] == i, True, False) # find samples with given variant\n",
    "\t\t\t\t\tnew_prob = np.sum(group_e[variant_samples, alpha]) / norm_ct\n",
    "\t\t\t\t\tvariant_probs[alpha, k, i] = max(new_prob, 10e-12) # prevent issues from taking log(0)\n",
    "\t\tprint('Variant probabilities: ', variant_probs[:2, :10])    \n",
    "\treturn (group_probs, group_e, variant_probs)"
   ]
  },
  {
   "cell_type": "code",
   "execution_count": 20,
   "metadata": {},
   "outputs": [],
   "source": [
    "# em initialization\n",
    "group_e_ini = rng.random(size=(n_samples, K))\n",
    "group_e = group_e_ini / np.sum(group_e_ini, axis=1, keepdims=1)\n",
    "group_ini = rng.random(size=6)\n",
    "group_probs = group_ini / np.sum(group_ini) # make this a probability vector\n",
    "variant_ini = rng.random(size=(K, n_loci, max_n_variants)) \n",
    "variant_probs = variant_ini / np.sum(variant_ini, axis=2, keepdims=1)"
   ]
  },
  {
   "cell_type": "code",
   "execution_count": 21,
   "metadata": {},
   "outputs": [
    {
     "name": "stdout",
     "output_type": "stream",
     "text": [
      "Starting iteration  0  / 10 \n",
      "\n",
      "Group probabilities:  [1.95087429e-09 4.00500970e-45 9.99999998e-01 2.96406469e-19\n",
      " 5.71840112e-46 2.57414745e-50]\n",
      "Variant probabilities:  [[[1.00000000e+00 1.00000000e-11]\n",
      "  [1.00000000e+00 1.00000000e-11]\n",
      "  [1.00000000e+00 1.00000000e-11]\n",
      "  [1.00000000e+00 1.00000000e-11]\n",
      "  [9.99999988e-01 1.17308450e-08]\n",
      "  [9.98119927e-01 1.88007345e-03]\n",
      "  [9.99999989e-01 1.12758570e-08]\n",
      "  [9.99999999e-01 7.13880736e-10]\n",
      "  [9.99999999e-01 1.34234618e-09]\n",
      "  [9.99999999e-01 7.09584936e-10]]\n",
      "\n",
      " [[9.99999999e-01 1.44524310e-09]\n",
      "  [1.00000000e+00 1.26837208e-10]\n",
      "  [9.99999993e-01 7.21219513e-09]\n",
      "  [1.00000000e+00 1.00000000e-11]\n",
      "  [1.00000000e+00 1.00000000e-11]\n",
      "  [9.99999986e-01 1.35791637e-08]\n",
      "  [9.99999437e-01 5.63082475e-07]\n",
      "  [9.99998321e-01 1.67903069e-06]\n",
      "  [1.00000000e+00 1.00000000e-11]\n",
      "  [1.00000000e+00 1.00000000e-11]]]\n",
      "Starting iteration  1  / 10 \n",
      "\n",
      "Group probabilities:  [5.28067573e-05 9.56899874e-33 9.99947193e-01 3.12895154e-11\n",
      " 1.97648669e-36 1.56769252e-44]\n",
      "Variant probabilities:  [[[1.00000000e+00 1.00000000e-11]\n",
      "  [1.00000000e+00 1.00000000e-11]\n",
      "  [1.00000000e+00 1.00000000e-11]\n",
      "  [1.00000000e+00 1.00000000e-11]\n",
      "  [1.00000000e+00 1.00000000e-11]\n",
      "  [9.99821968e-01 1.78032360e-04]\n",
      "  [1.00000000e+00 1.00000000e-11]\n",
      "  [1.00000000e+00 1.00000000e-11]\n",
      "  [1.00000000e+00 1.00000000e-11]\n",
      "  [1.00000000e+00 1.00000000e-11]]\n",
      "\n",
      " [[1.00000000e+00 1.00000000e-11]\n",
      "  [1.00000000e+00 1.00000000e-11]\n",
      "  [1.00000000e+00 1.00000000e-11]\n",
      "  [1.00000000e+00 1.00000000e-11]\n",
      "  [1.00000000e+00 1.00000000e-11]\n",
      "  [1.00000000e+00 1.00000000e-11]\n",
      "  [1.00000000e+00 1.00000000e-11]\n",
      "  [1.00000000e+00 1.00000000e-11]\n",
      "  [1.00000000e+00 1.00000000e-11]\n",
      "  [1.00000000e+00 1.00000000e-11]]]\n",
      "Starting iteration  2  / 10 \n",
      "\n",
      "Group probabilities:  [1.58635185e-04 6.49682677e-20 9.99825216e-01 1.61483570e-05\n",
      " 1.05985625e-24 3.23740378e-30]\n",
      "Variant probabilities:  [[[1.00000000e+00 1.00000000e-11]\n",
      "  [1.00000000e+00 1.00000000e-11]\n",
      "  [1.00000000e+00 1.00000000e-11]\n",
      "  [1.00000000e+00 1.00000000e-11]\n",
      "  [1.00000000e+00 1.00000000e-11]\n",
      "  [9.99999994e-01 6.01170896e-09]\n",
      "  [1.00000000e+00 1.00000000e-11]\n",
      "  [1.00000000e+00 1.00000000e-11]\n",
      "  [1.00000000e+00 1.00000000e-11]\n",
      "  [1.00000000e+00 1.00000000e-11]]\n",
      "\n",
      " [[1.00000000e+00 1.00000000e-11]\n",
      "  [1.00000000e+00 1.00000000e-11]\n",
      "  [1.00000000e+00 1.00000000e-11]\n",
      "  [1.00000000e+00 1.00000000e-11]\n",
      "  [1.00000000e+00 1.00000000e-11]\n",
      "  [1.00000000e+00 1.00000000e-11]\n",
      "  [1.00000000e+00 1.00000000e-11]\n",
      "  [1.00000000e+00 1.00000000e-11]\n",
      "  [1.00000000e+00 1.00000000e-11]\n",
      "  [1.00000000e+00 1.00000000e-11]]]\n",
      "Starting iteration  3  / 10 \n",
      "\n",
      "Group probabilities:  [2.81967927e-04 4.30483651e-07 9.99701386e-01 1.62153397e-05\n",
      " 5.68985686e-13 7.28526177e-15]\n",
      "Variant probabilities:  [[[1.e+00 1.e-11]\n",
      "  [1.e+00 1.e-11]\n",
      "  [1.e+00 1.e-11]\n",
      "  [1.e+00 1.e-11]\n",
      "  [1.e+00 1.e-11]\n",
      "  [1.e+00 1.e-11]\n",
      "  [1.e+00 1.e-11]\n",
      "  [1.e+00 1.e-11]\n",
      "  [1.e+00 1.e-11]\n",
      "  [1.e+00 1.e-11]]\n",
      "\n",
      " [[1.e+00 1.e-11]\n",
      "  [1.e+00 1.e-11]\n",
      "  [1.e+00 1.e-11]\n",
      "  [1.e+00 1.e-11]\n",
      "  [1.e+00 1.e-11]\n",
      "  [1.e+00 1.e-11]\n",
      "  [1.e+00 1.e-11]\n",
      "  [1.e+00 1.e-11]\n",
      "  [1.e+00 1.e-11]\n",
      "  [1.e+00 1.e-11]]]\n",
      "Starting iteration  4  / 10 \n",
      "\n",
      "Group probabilities:  [7.44572051e-04 1.62153397e-05 9.99190567e-01 1.62153397e-05\n",
      " 1.62144798e-05 1.62153237e-05]\n",
      "Variant probabilities:  [[[1.e+00 1.e-11]\n",
      "  [1.e+00 1.e-11]\n",
      "  [1.e+00 1.e-11]\n",
      "  [1.e+00 1.e-11]\n",
      "  [1.e+00 1.e-11]\n",
      "  [1.e+00 1.e-11]\n",
      "  [1.e+00 1.e-11]\n",
      "  [1.e+00 1.e-11]\n",
      "  [1.e+00 1.e-11]\n",
      "  [1.e+00 1.e-11]]\n",
      "\n",
      " [[1.e+00 1.e-11]\n",
      "  [1.e+00 1.e-11]\n",
      "  [1.e+00 1.e-11]\n",
      "  [1.e+00 1.e-11]\n",
      "  [1.e+00 1.e-11]\n",
      "  [1.e+00 1.e-11]\n",
      "  [1.e+00 1.e-11]\n",
      "  [1.e+00 1.e-11]\n",
      "  [1.e+00 1.e-11]\n",
      "  [1.e+00 1.e-11]]]\n",
      "Starting iteration  5  / 10 \n",
      "\n",
      "Group probabilities:  [2.21374536e-03 1.62153397e-05 9.97721393e-01 1.62153397e-05\n",
      " 1.62153397e-05 1.62153397e-05]\n",
      "Variant probabilities:  [[[1.e+00 1.e-11]\n",
      "  [1.e+00 1.e-11]\n",
      "  [1.e+00 1.e-11]\n",
      "  [1.e+00 1.e-11]\n",
      "  [1.e+00 1.e-11]\n",
      "  [1.e+00 1.e-11]\n",
      "  [1.e+00 1.e-11]\n",
      "  [1.e+00 1.e-11]\n",
      "  [1.e+00 1.e-11]\n",
      "  [1.e+00 1.e-11]]\n",
      "\n",
      " [[1.e+00 1.e-11]\n",
      "  [1.e+00 1.e-11]\n",
      "  [1.e+00 1.e-11]\n",
      "  [1.e+00 1.e-11]\n",
      "  [1.e+00 1.e-11]\n",
      "  [1.e+00 1.e-11]\n",
      "  [1.e+00 1.e-11]\n",
      "  [1.e+00 1.e-11]\n",
      "  [1.e+00 1.e-11]\n",
      "  [1.e+00 1.e-11]]]\n",
      "Starting iteration  6  / 10 \n",
      "\n",
      "Group probabilities:  [7.06225614e-03 1.62153397e-05 9.92872883e-01 1.62153397e-05\n",
      " 1.62153397e-05 1.62153397e-05]\n",
      "Variant probabilities:  [[[1.00000000e+00 1.00000000e-11]\n",
      "  [1.00000000e+00 1.00000000e-11]\n",
      "  [1.00000000e+00 1.00000000e-11]\n",
      "  [1.00000000e+00 1.00000000e-11]\n",
      "  [1.00000000e+00 1.00000000e-11]\n",
      "  [1.00000000e+00 1.00000000e-11]\n",
      "  [1.00000000e+00 1.00000000e-11]\n",
      "  [1.00000000e+00 1.52281157e-11]\n",
      "  [1.00000000e+00 1.00000000e-11]\n",
      "  [1.00000000e+00 1.00000000e-11]]\n",
      "\n",
      " [[1.00000000e+00 1.00000000e-11]\n",
      "  [1.00000000e+00 1.00000000e-11]\n",
      "  [1.00000000e+00 1.00000000e-11]\n",
      "  [1.00000000e+00 1.00000000e-11]\n",
      "  [1.00000000e+00 1.00000000e-11]\n",
      "  [1.00000000e+00 1.00000000e-11]\n",
      "  [1.00000000e+00 1.00000000e-11]\n",
      "  [1.00000000e+00 1.00000000e-11]\n",
      "  [1.00000000e+00 1.00000000e-11]\n",
      "  [1.00000000e+00 1.00000000e-11]]]\n",
      "Starting iteration  7  / 10 \n",
      "\n",
      "Group probabilities:  [2.67693964e-02 1.62153397e-05 9.73165742e-01 1.62153397e-05\n",
      " 1.62153397e-05 1.62153397e-05]\n",
      "Variant probabilities:  [[[1.00000000e+00 1.00000000e-11]\n",
      "  [1.00000000e+00 1.00000000e-11]\n",
      "  [1.00000000e+00 1.00000000e-11]\n",
      "  [1.00000000e+00 1.00000000e-11]\n",
      "  [1.00000000e+00 1.00000000e-11]\n",
      "  [1.00000000e+00 1.00000000e-11]\n",
      "  [1.00000000e+00 1.00000000e-11]\n",
      "  [1.00000000e+00 2.07087743e-10]\n",
      "  [1.00000000e+00 1.00000000e-11]\n",
      "  [1.00000000e+00 1.00000000e-11]]\n",
      "\n",
      " [[1.00000000e+00 1.00000000e-11]\n",
      "  [1.00000000e+00 1.00000000e-11]\n",
      "  [1.00000000e+00 1.00000000e-11]\n",
      "  [1.00000000e+00 1.00000000e-11]\n",
      "  [1.00000000e+00 1.00000000e-11]\n",
      "  [1.00000000e+00 1.00000000e-11]\n",
      "  [1.00000000e+00 1.00000000e-11]\n",
      "  [1.00000000e+00 1.00000000e-11]\n",
      "  [1.00000000e+00 1.00000000e-11]\n",
      "  [1.00000000e+00 1.00000000e-11]]]\n",
      "Starting iteration  8  / 10 \n",
      "\n",
      "Group probabilities:  [6.41833726e-02 1.62153397e-05 9.35751766e-01 1.62153397e-05\n",
      " 1.62153397e-05 1.62153397e-05]\n",
      "Variant probabilities:  [[[1.00000000e+00 1.00000000e-11]\n",
      "  [1.00000000e+00 1.00000000e-11]\n",
      "  [1.00000000e+00 1.00000000e-11]\n",
      "  [1.00000000e+00 1.00750111e-11]\n",
      "  [1.00000000e+00 1.13274137e-11]\n",
      "  [1.00000000e+00 1.00000000e-11]\n",
      "  [1.00000000e+00 1.00000000e-11]\n",
      "  [9.99999994e-01 6.34462256e-09]\n",
      "  [1.00000000e+00 1.00000000e-11]\n",
      "  [1.00000000e+00 1.00000000e-11]]\n",
      "\n",
      " [[1.00000000e+00 1.00000000e-11]\n",
      "  [1.00000000e+00 1.00000000e-11]\n",
      "  [1.00000000e+00 1.00000000e-11]\n",
      "  [1.00000000e+00 1.00000000e-11]\n",
      "  [1.00000000e+00 1.00000000e-11]\n",
      "  [1.00000000e+00 1.00000000e-11]\n",
      "  [1.00000000e+00 1.00000000e-11]\n",
      "  [1.00000000e+00 1.00000000e-11]\n",
      "  [1.00000000e+00 1.00000000e-11]\n",
      "  [1.00000000e+00 1.00000000e-11]]]\n",
      "Starting iteration  9  / 10 \n",
      "\n",
      "Group probabilities:  [1.28583971e-01 1.62153397e-05 8.71351167e-01 1.62153397e-05\n",
      " 1.62153397e-05 1.62153397e-05]\n",
      "Variant probabilities:  [[[1.00000000e+00 1.00000000e-11]\n",
      "  [1.00000000e+00 1.00000000e-11]\n",
      "  [1.00000000e+00 4.62305593e-11]\n",
      "  [1.00000000e+00 3.42955502e-11]\n",
      "  [1.00000000e+00 1.39632717e-10]\n",
      "  [1.00000000e+00 1.00000000e-11]\n",
      "  [1.00000000e+00 1.00000000e-11]\n",
      "  [9.99999714e-01 2.86364043e-07]\n",
      "  [1.00000000e+00 1.00000000e-11]\n",
      "  [1.00000000e+00 3.59460301e-11]]\n",
      "\n",
      " [[1.00000000e+00 1.00000000e-11]\n",
      "  [1.00000000e+00 1.00000000e-11]\n",
      "  [1.00000000e+00 1.00000000e-11]\n",
      "  [1.00000000e+00 1.00000000e-11]\n",
      "  [1.00000000e+00 1.00000000e-11]\n",
      "  [1.00000000e+00 1.00000000e-11]\n",
      "  [1.00000000e+00 1.00000000e-11]\n",
      "  [1.00000000e+00 1.00000000e-11]\n",
      "  [1.00000000e+00 1.00000000e-11]\n",
      "  [1.00000000e+00 1.00000000e-11]]]\n"
     ]
    }
   ],
   "source": [
    "res = _em_loop(\n",
    "    10,\n",
    "    K,\n",
    "    n_samples,\n",
    "    n_loci,\n",
    "    n_variants_pos,\n",
    "    group_e,\n",
    "    group_probs,\n",
    "    variant_probs,\n",
    "    haplos,\n",
    "    logsum_approx=True,\n",
    ")"
   ]
  }
 ],
 "metadata": {
  "kernelspec": {
   "display_name": "Python 3",
   "language": "python",
   "name": "python3"
  },
  "language_info": {
   "codemirror_mode": {
    "name": "ipython",
    "version": 3
   },
   "file_extension": ".py",
   "mimetype": "text/x-python",
   "name": "python",
   "nbconvert_exporter": "python",
   "pygments_lexer": "ipython3",
   "version": "3.8.6"
  }
 },
 "nbformat": 4,
 "nbformat_minor": 4
}
